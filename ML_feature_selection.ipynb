{
 "cells": [
  {
   "cell_type": "markdown",
   "metadata": {},
   "source": [
    "<h1>Feature Selection and Scaling<h1>\n",
    "\n",
    "  \n",
    " <h5>Anas Ba Ragaa _ B00075797<h5>\n",
    " <h5>Rayan Ben Daya _ B00073990 <h5>\n",
    " <h5>Rashid Alnuaimi  _ B00071921<h5>"
   ]
  },
  {
   "cell_type": "code",
   "execution_count": 1,
   "metadata": {},
   "outputs": [],
   "source": [
    "import numpy as np\n",
    "from sklearn import tree\n",
    "from sklearn.model_selection import train_test_split\n",
    "from sklearn.model_selection import cross_validate\n",
    "import pandas as pd\n",
    "\n",
    "def save_array(a,filename):\n",
    "    with open(filename, 'wb') as f:\n",
    "        np.save(f, a)\n",
    "def read_array(filename):\n",
    "    with open(filename, 'rb') as f:\n",
    "        a = np.load(f)\n",
    "    return a\n",
    "\n",
    "\n",
    "X_FILE='x_file.txt'\n",
    "Y_FILE='y_file.txt'"
   ]
  },
  {
   "cell_type": "code",
   "execution_count": null,
   "metadata": {},
   "outputs": [],
   "source": [
    "\n",
    "##################################\n",
    "        #Loading and Encodign #\n",
    "####################################\n",
    "#Machine Learning\n",
    "\n",
    "#part 1\n",
    "input_file = \"Churn_Modelling.csv\"\n",
    "# reading file to pandas dataframe\n",
    "df_ori = pd.read_csv(input_file, header = 0)\n",
    "# dropping the unrelated columns\n",
    "df=df_ori.drop(columns=['CustomerId', 'Surname','RowNumber'])\n",
    "# Encoding the catogerical features to numerical by replacing their values with numbers\n",
    "df=df.replace([\"Female\",\"Male\"],[1,0])\n",
    "df=df.replace([\"France\",\"Spain\",\"Germany\",],[0,1,2])\n",
    "#dataset after manipulation\n",
    "\n",
    "# Sampling to make the data balanced\n",
    "df=df.sample(frac=1).groupby('Exited', sort=False).head(2000)\n",
    "df\n",
    "y=df['Exited'].to_numpy()\n",
    "y=y.astype(int)\n",
    "x=df.drop(columns=['Exited']).to_numpy()\n",
    "x=x.astype(int)\n",
    "x\n",
    "# run only once to save file for consistency\n",
    "save_array(y,Y_FILE)\n",
    "save_array(x,X_FILE)\n",
    "\n",
    "\n",
    "\n"
   ]
  },
  {
   "cell_type": "code",
   "execution_count": 4,
   "metadata": {
    "scrolled": true
   },
   "outputs": [
    {
     "name": "stdout",
     "output_type": "stream",
     "text": [
      "(6037, 10)\n",
      "(6037,)\n"
     ]
    }
   ],
   "source": [
    "#Loading x and y from files\n",
    "X=read_array(X_FILE)\n",
    "Y=read_array(Y_FILE)\n",
    "\n",
    "print (x.shape)\n",
    "print(y.shape)"
   ]
  },
  {
   "cell_type": "code",
   "execution_count": 5,
   "metadata": {},
   "outputs": [],
   "source": [
    "\n",
    "\n",
    "from sklearn import preprocessing\n",
    "#Part one\n",
    "\n",
    "mm_scaler = preprocessing.MinMaxScaler()\n",
    "x = mm_scaler.fit_transform(X)\n",
    "\n",
    "y=Y\n",
    "\n"
   ]
  },
  {
   "cell_type": "code",
   "execution_count": 15,
   "metadata": {},
   "outputs": [],
   "source": [
    "from sklearn.metrics import confusion_matrix\n",
    "from sklearn.metrics import plot_confusion_matrix\n",
    "import matplotlib.pyplot as plt  \n",
    "from sklearn.model_selection import cross_val_predict\n",
    "import seaborn as sn\n",
    "import pandas as pd\n",
    "import matplotlib.pyplot as plt\n",
    "metric = ['precision_macro', 'recall_macro', 'f1_macro', 'accuracy','time' ]\n",
    "# show confusion matrix\n",
    "def plot_cm(cm):\n",
    "    sn.heatmap(cm/np.sum(cm), annot=True, fmt='.2%', cmap='Blues')\n",
    "    plt.show()\n",
    "# do cross validation and return results     \n",
    "def report_metrics(model,x,y, k=10 ):\n",
    "   \n",
    "    drop=[]\n",
    "    s = cross_validate(model,x,y,cv=k, scoring=metric, return_train_score= True)\n",
    "    y_pred=cross_val_predict(model, x, y, cv=k)  \n",
    "    cm=confusion_matrix(y, y_pred)  \n",
    "    tpr=cm[0][0]/(cm[0][1]+cm[0][0])\n",
    "    tnr=cm[1][1]/(cm[1][0]+cm[1][1])\n",
    "    \n",
    "    \n",
    "    s['tpr']=np.array([tpr])\n",
    "    s['tnr']=np.array([tnr])\n",
    "    return s,cm"
   ]
  },
  {
   "cell_type": "markdown",
   "metadata": {},
   "source": [
    "**Part 2**"
   ]
  },
  {
   "cell_type": "markdown",
   "metadata": {},
   "source": [
    "First Classifier : DecisionTree with max depth set to 5 and default number of splits"
   ]
  },
  {
   "cell_type": "code",
   "execution_count": 16,
   "metadata": {},
   "outputs": [
    {
     "data": {
      "image/png": "[encoded data removed]",
      "text/plain": [
       "<Figure size 432x288 with 2 Axes>"
      ]
     },
     "metadata": {
      "needs_background": "light"
     },
     "output_type": "display_data"
    }
   ],
   "source": [
    "from sklearn import tree\n",
    "\n",
    "clf = tree.DecisionTreeClassifier(max_depth=5)\n",
    "s,cm = report_metrics(clf,x,y,10)\n",
    "plot_cm(cm)\n"
   ]
  },
  {
   "cell_type": "code",
   "execution_count": 17,
   "metadata": {},
   "outputs": [
    {
     "name": "stdout",
     "output_type": "stream",
     "text": [
      "fit_time  =  [0.01296377 0.0135622  0.01100326 0.01262736 0.0153935  0.0119679\n",
      " 0.01203108 0.01296067 0.01182151 0.01197171]\n",
      "score_time  =  [0.00401974 0.00405884 0.00301385 0.00598335 0.0020206  0.00299287\n",
      " 0.00296807 0.003016   0.00299144 0.00199461]\n",
      "test_precision_macro  =  [0.76506827 0.78481973 0.76306502 0.7428601  0.74171843 0.76225547\n",
      " 0.79250916 0.74758454 0.79479922 0.761412  ]\n",
      "train_precision_macro  =  [0.77374997 0.77545726 0.76993472 0.77216171 0.77957622 0.78546615\n",
      " 0.77414842 0.77257375 0.77163171 0.77042596]\n",
      "test_recall_macro  =  [0.74387255 0.75752451 0.7667402  0.74458333 0.72892157 0.72080882\n",
      " 0.75156863 0.74993842 0.76038177 0.75262315]\n",
      "train_recall_macro  =  [0.76216335 0.75720949 0.76545054 0.76818331 0.75025732 0.74763457\n",
      " 0.74828787 0.76639737 0.74700503 0.76769357]\n",
      "test_f1_macro  =  [0.75201072 0.76762975 0.76480609 0.74369824 0.73422178 0.73315926\n",
      " 0.76493212 0.74871921 0.77248244 0.75654207]\n",
      "train_f1_macro  =  [0.76719844 0.76457082 0.76756829 0.77007531 0.76079304 0.76019857\n",
      " 0.75784804 0.76925687 0.75619386 0.76901276]\n",
      "test_accuracy  =  [0.78642384 0.8013245  0.78807947 0.76986755 0.76821192 0.7781457\n",
      " 0.80298013 0.77446103 0.80762852 0.78606965]\n",
      "train_accuracy  =  [0.79606111 0.79606111 0.79385238 0.79587705 0.79642923 0.79845389\n",
      " 0.79293208 0.79591461 0.79112992 0.7944424 ]\n",
      "tpr  =  [0.8665]\n",
      "tnr  =  [0.62886598]\n"
     ]
    }
   ],
   "source": [
    "# Printing results from 10 folds\n",
    "for k,v in s.items():\n",
    "    print (k ,' = ' , v )"
   ]
  },
  {
   "cell_type": "code",
   "execution_count": 20,
   "metadata": {},
   "outputs": [
    {
     "name": "stdout",
     "output_type": "stream",
     "text": [
      "Tree Classifier Average after 10 folds : \n",
      "Average fit_time  =  0.012630295753479005\n",
      "Average score_time  =  0.003305935859680176\n",
      "Average test_precision_macro  =  0.7656091939706056\n",
      "Average train_precision_macro  =  0.7745125885685299\n",
      "Average test_recall_macro  =  0.7476962957596832\n",
      "Average train_recall_macro  =  0.7580282408093233\n",
      "Average test_f1_macro  =  0.7538201658360306\n",
      "Average train_f1_macro  =  0.7642716007968356\n",
      "Average test_accuracy  =  0.786319231656288\n",
      "Average train_accuracy  =  0.795115378484555\n",
      "Average tpr  =  0.8665\n",
      "Average tnr  =  0.6288659793814433\n"
     ]
    }
   ],
   "source": [
    "print ('Tree Classifier Average after 10 folds : ' )\n",
    "for k,v in s.items():\n",
    "    print ('Average',k ,' = ' , v.sum()/len(v))\n"
   ]
  },
  {
   "cell_type": "markdown",
   "metadata": {},
   "source": [
    "Second classifier KNN wirt N=18"
   ]
  },
  {
   "cell_type": "code",
   "execution_count": 27,
   "metadata": {},
   "outputs": [
    {
     "data": {
      "image/png": "[encoded data removed]",
      "text/plain": [
       "<Figure size 432x288 with 2 Axes>"
      ]
     },
     "metadata": {
      "needs_background": "light"
     },
     "output_type": "display_data"
    }
   ],
   "source": [
    "from sklearn.neighbors import KNeighborsClassifier\n",
    "\n",
    "clf = KNeighborsClassifier(n_neighbors=18)\n",
    "s,cm = report_metrics(clf,x,y,10)\n",
    "plot_cm(cm)"
   ]
  },
  {
   "cell_type": "code",
   "execution_count": 28,
   "metadata": {},
   "outputs": [
    {
     "name": "stdout",
     "output_type": "stream",
     "text": [
      "KNN Classifier Results after 10 folds : \n",
      "fit_time  =  [0.0260191  0.01994252 0.02484155 0.01802588 0.02051473 0.02002835\n",
      " 0.01909065 0.01901889 0.02097702 0.02197289]\n",
      "score_time  =  [0.04716063 0.06808829 0.05656672 0.05210948 0.05185795 0.04797363\n",
      " 0.043998   0.04702353 0.0537734  0.04688811]\n",
      "test_precision_macro  =  [0.7470399  0.75093998 0.72146707 0.75127133 0.70507937 0.68728223\n",
      " 0.75118516 0.71927793 0.73847792 0.73051878]\n",
      "train_precision_macro  =  [0.76566173 0.7585597  0.75835848 0.76346474 0.76172052 0.76428966\n",
      " 0.76236554 0.75746921 0.76433228 0.75725458]\n",
      "test_recall_macro  =  [0.65622549 0.66112745 0.63897059 0.65017157 0.62666667 0.62647059\n",
      " 0.63311275 0.64226601 0.65586823 0.65825739]\n",
      "train_recall_macro  =  [0.66874045 0.67099154 0.67315876 0.67116544 0.67142321 0.6774093\n",
      " 0.67142821 0.66707924 0.67363777 0.66125121]\n",
      "test_f1_macro  =  [0.66590867 0.67168123 0.64549367 0.65853157 0.63076386 0.63143555\n",
      " 0.6366773  0.64973861 0.6656754  0.6683439 ]\n",
      "train_f1_macro  =  [0.6807247  0.68317817 0.68560963 0.68347934 0.6837373  0.69052923\n",
      " 0.6837566  0.67867844 0.68628712 0.67188372]\n",
      "test_accuracy  =  [0.74668874 0.75       0.73178808 0.74503311 0.7218543  0.71523179\n",
      " 0.73675497 0.73300166 0.74461028 0.74295191]\n",
      "train_accuracy  =  [0.75777655 0.75685625 0.75777655 0.75832873 0.75796061 0.76145776\n",
      " 0.75814467 0.75469268 0.75966139 0.75193228]\n",
      "tpr  =  [0.9275]\n",
      "tnr  =  [0.3622975]\n"
     ]
    }
   ],
   "source": [
    "# Printing results from 10 folds\n",
    "print ('KNN Classifier Results after 10 folds : ' )\n",
    "\n",
    "for k,v in s.items():\n",
    "    print (k ,' = ' , v )"
   ]
  },
  {
   "cell_type": "code",
   "execution_count": 29,
   "metadata": {},
   "outputs": [
    {
     "name": "stdout",
     "output_type": "stream",
     "text": [
      "KNN Classifier Average after 10 folds : \n",
      "Average fit_time  =  0.021043157577514647\n",
      "Average score_time  =  0.05154397487640381\n",
      "Average test_precision_macro  =  0.7302539662425038\n",
      "Average train_precision_macro  =  0.7613476441270817\n",
      "Average test_recall_macro  =  0.6449136723654979\n",
      "Average train_recall_macro  =  0.6706285144934649\n",
      "Average test_f1_macro  =  0.6524249760381741\n",
      "Average train_f1_macro  =  0.6827864258984052\n",
      "Average test_accuracy  =  0.7367914840807002\n",
      "Average train_accuracy  =  0.7574587468001981\n",
      "Average tpr  =  0.9275\n",
      "Average tnr  =  0.36229749631811486\n"
     ]
    }
   ],
   "source": [
    "print ('KNN Classifier Average after 10 folds : ' )\n",
    "for k,v in s.items():\n",
    "    print ('Average',k ,' = ' , v.sum()/len(v))\n"
   ]
  },
  {
   "cell_type": "markdown",
   "metadata": {},
   "source": [
    "**Part 3**"
   ]
  },
  {
   "cell_type": "markdown",
   "metadata": {},
   "source": [
    "**Finding the threshold for feature selection without losing accuracy**"
   ]
  },
  {
   "cell_type": "code",
   "execution_count": null,
   "metadata": {
    "scrolled": false
   },
   "outputs": [],
   "source": [
    "\n",
    "best_acc=0\n",
    "best_index=None\n",
    "res=[]\n",
    "for i in range(1,11):\n",
    "    from sklearn.feature_selection import SelectKBest, SelectPercentile, chi2, f_classif,f_regression\n",
    "    x_temp = SelectKBest(chi2, k=i).fit_transform(x, y)\n",
    "    clf = KNeighborsClassifier(n_neighbors=18)\n",
    "    s,_ = report_metrics(clf,x_temp,y,5)\n",
    "    res.append(s['test_accuracy'].sum()/len(s['test_accuracy']))\n",
    "    if(s['test_accuracy'].sum()/len(s['test_accuracy'])) > best_acc:\n",
    "        best_index=i\n",
    "        best_acc=s['test_accuracy'].sum()/len(s['test_accuracy'])"
   ]
  },
  {
   "cell_type": "code",
   "execution_count": 54,
   "metadata": {},
   "outputs": [
    {
     "name": "stderr",
     "output_type": "stream",
     "text": [
      "No handles with labels found to put in legend.\n"
     ]
    },
    {
     "data": {
      "image/png": "[encoded data removed]",
      "text/plain": [
       "<Figure size 432x288 with 1 Axes>"
      ]
     },
     "metadata": {
      "needs_background": "light"
     },
     "output_type": "display_data"
    }
   ],
   "source": [
    "#Plotting some results\n",
    "\n",
    "\n",
    "\n",
    "x_axis=[i for i in range(1,11)]           \n",
    "plt.plot(x_axis, res,  )\n",
    "        \n",
    "plt.xlabel(\"Number of features\")\n",
    "plt.ylabel(\"Accuracy\")\n",
    "plt.title(\"Number of featurs vs accuracy on KNN classifier\")\n",
    "  \n",
    "# Adding legend, which helps us recognize the curve according to it's color\n",
    "plt.legend()\n",
    "  \n",
    "# To load the display window\n",
    "plt.show()"
   ]
  },
  {
   "cell_type": "code",
   "execution_count": 55,
   "metadata": {},
   "outputs": [
    {
     "name": "stdout",
     "output_type": "stream",
     "text": [
      "Dataset size after feature selection is:  (6037, 6)\n"
     ]
    }
   ],
   "source": [
    "from sklearn.feature_selection import SelectKBest, SelectPercentile, chi2, f_classif,f_regression\n",
    "x_new = SelectKBest(chi2, k=6).fit_transform(x, y)\n",
    "print(\"Dataset size after feature selection is: \", x_new.shape)\n"
   ]
  },
  {
   "cell_type": "markdown",
   "metadata": {},
   "source": [
    "**Part 4**"
   ]
  },
  {
   "cell_type": "markdown",
   "metadata": {},
   "source": [
    "First Classifier : DecisionTree with max depth set to 5 and default number of splits"
   ]
  },
  {
   "cell_type": "code",
   "execution_count": 56,
   "metadata": {},
   "outputs": [
    {
     "data": {
      "image/png": "[encoded data removed]",
      "text/plain": [
       "<Figure size 432x288 with 2 Axes>"
      ]
     },
     "metadata": {
      "needs_background": "light"
     },
     "output_type": "display_data"
    },
    {
     "name": "stdout",
     "output_type": "stream",
     "text": [
      "Tree Classifier Results after 10 folds : \n",
      "fit_time  =  [0.00697279 0.00498557 0.00499368 0.00503445 0.00495052 0.00750327\n",
      " 0.00598383 0.00562477 0.00599122 0.00498629]\n",
      "score_time  =  [0.00398993 0.0030272  0.00199389 0.00199485 0.00300646 0.00299406\n",
      " 0.00376296 0.00201607 0.00301003 0.00299263]\n",
      "test_precision_macro  =  [0.76506827 0.78650919 0.75939685 0.74093137 0.7361454  0.76490066\n",
      " 0.78820587 0.74758454 0.79479922 0.75960432]\n",
      "train_precision_macro  =  [0.77265643 0.7744353  0.76891892 0.77101385 0.7787361  0.78472106\n",
      " 0.77313289 0.77104635 0.77059762 0.7696114 ]\n",
      "test_recall_macro  =  [0.74387255 0.75997549 0.76183824 0.74093137 0.72156863 0.72205882\n",
      " 0.74786765 0.74993842 0.76038177 0.7501601 ]\n",
      "train_recall_macro  =  [0.76120113 0.7559795  0.76422054 0.76627887 0.7493001  0.74654346\n",
      " 0.74638343 0.76394887 0.74577563 0.76673679]\n",
      "test_f1_macro  =  [0.75201072 0.76990476 0.76057472 0.74093137 0.72740844 0.73471592\n",
      " 0.7609814  0.74871921 0.77248244 0.75433109]\n",
      "train_f1_macro  =  [0.76618248 0.76339801 0.76643276 0.76850892 0.75984769 0.7591539\n",
      " 0.75615603 0.76719594 0.75500021 0.76812192]\n",
      "test_accuracy  =  [0.78642384 0.80298013 0.78476821 0.76821192 0.76324503 0.77980132\n",
      " 0.79966887 0.77446103 0.80762852 0.78441128]\n",
      "train_accuracy  =  [0.79514081 0.79514081 0.79293208 0.79477269 0.79569299 0.79771765\n",
      " 0.79182772 0.7944424  0.79020979 0.79370629]\n",
      "tpr  =  [0.86675]\n",
      "tnr  =  [0.62493864]\n",
      "Tree Classifier Average after 10 folds : \n",
      "Average fit_time  =  0.0057026386260986325\n",
      "Average score_time  =  0.0028788089752197266\n",
      "Average test_precision_macro  =  0.7643145698844902\n",
      "Average train_precision_macro  =  0.773486991266235\n",
      "Average test_recall_macro  =  0.7458593040664542\n",
      "Average train_recall_macro  =  0.7566368315355444\n",
      "Average test_f1_macro  =  0.7522060059862469\n",
      "Average train_f1_macro  =  0.7629997854860973\n",
      "Average test_accuracy  =  0.7851600166935742\n",
      "Average train_accuracy  =  0.7941583221335611\n",
      "Average tpr  =  0.86675\n",
      "Average tnr  =  0.6249386352479136\n"
     ]
    }
   ],
   "source": [
    "clf = tree.DecisionTreeClassifier(max_depth=5)\n",
    "s,cm = report_metrics(clf,x_new,y,10)\n",
    "plot_cm(cm)\n",
    "print ('Tree Classifier Results after 10 folds : ' )\n",
    "\n",
    "for k,v in s.items():\n",
    "    print (k ,' = ' , v )\n",
    "    \n",
    "print ('Tree Classifier Average after 10 folds : ' )\n",
    "\n",
    "for k,v in s.items():\n",
    "    print ('Average',k ,' = ' , v.sum()/len(v))"
   ]
  },
  {
   "cell_type": "markdown",
   "metadata": {},
   "source": [
    "Second classifier KNN wirt N=18"
   ]
  },
  {
   "cell_type": "code",
   "execution_count": 57,
   "metadata": {
    "scrolled": false
   },
   "outputs": [
    {
     "data": {
      "image/png": "[encoded data removed]",
      "text/plain": [
       "<Figure size 432x288 with 2 Axes>"
      ]
     },
     "metadata": {
      "needs_background": "light"
     },
     "output_type": "display_data"
    },
    {
     "name": "stdout",
     "output_type": "stream",
     "text": [
      "KNN Classifier Results after 10 folds : \n",
      "fit_time  =  [0.01995349 0.0139997  0.01591754 0.01496005 0.01399755 0.01396251\n",
      " 0.01494312 0.01474714 0.01403594 0.01525927]\n",
      "score_time  =  [0.05213237 0.0408957  0.02935576 0.03490663 0.04659629 0.02915764\n",
      " 0.02907228 0.02903008 0.03091598 0.02967024]\n",
      "test_precision_macro  =  [0.78590061 0.8190198  0.80086207 0.77691383 0.77443997 0.79019572\n",
      " 0.79451477 0.79342207 0.80366094 0.77263909]\n",
      "train_precision_macro  =  [0.81487317 0.80861518 0.81569845 0.80939086 0.8163685  0.81181336\n",
      " 0.81502272 0.81292965 0.8088861  0.81493716]\n",
      "test_recall_macro  =  [0.74176471 0.74090686 0.7395098  0.72585784 0.73796569 0.73330882\n",
      " 0.72240196 0.75302956 0.75067734 0.7197968 ]\n",
      "train_recall_macro  =  [0.75852791 0.75128182 0.75826514 0.75481292 0.75732292 0.75361793\n",
      " 0.75717403 0.75658866 0.75248379 0.75823473]\n",
      "test_f1_macro  =  [0.75546317 0.75998575 0.75613695 0.74009894 0.74992094 0.74888349\n",
      " 0.73929487 0.76637116 0.7665287  0.7340706 ]\n",
      "train_f1_macro  =  [0.77530955 0.76790187 0.77523692 0.77109594 0.7745437  0.77050567\n",
      " 0.77417075 0.77327179 0.76898592 0.77506057]\n",
      "test_accuracy  =  [0.79635762 0.80794702 0.8013245  0.78642384 0.7897351  0.79470199\n",
      " 0.79139073 0.80431177 0.80762852 0.7827529 ]\n",
      "train_accuracy  =  [0.81501933 0.80949752 0.81520339 0.81133812 0.81501933 0.81170624\n",
      " 0.81446715 0.81339713 0.81008465 0.81486934]\n",
      "tpr  =  [0.92025]\n",
      "tnr  =  [0.55277369]\n",
      "KNN Classifier Average after 10 folds : \n",
      "Average fit_time  =  0.015177631378173828\n",
      "Average score_time  =  0.03517329692840576\n",
      "Average test_precision_macro  =  0.7911568861763556\n",
      "Average train_precision_macro  =  0.812853515001874\n",
      "Average test_recall_macro  =  0.7365219380855791\n",
      "Average train_recall_macro  =  0.755830987363024\n",
      "Average test_f1_macro  =  0.7516754568531201\n",
      "Average train_f1_macro  =  0.772608268028011\n",
      "Average test_accuracy  =  0.7962573995365336\n",
      "Average train_accuracy  =  0.8130602180908786\n",
      "Average tpr  =  0.92025\n",
      "Average tnr  =  0.5527736867943054\n"
     ]
    }
   ],
   "source": [
    "clf = KNeighborsClassifier(n_neighbors=18)\n",
    "s,cm = report_metrics(clf,x_new,y,10)\n",
    "plot_cm(cm)\n",
    "print ('KNN Classifier Results after 10 folds : ' )\n",
    "\n",
    "for k,v in s.items():\n",
    "    print (k ,' = ' , v )\n",
    "    \n",
    "print ('KNN Classifier Average after 10 folds : ' )\n",
    "\n",
    "for k,v in s.items():\n",
    "    print ('Average',k ,' = ' , v.sum()/len(v))"
   ]
  },
  {
   "cell_type": "markdown",
   "metadata": {},
   "source": [
    "**Part 5**"
   ]
  },
  {
   "cell_type": "code",
   "execution_count": 41,
   "metadata": {},
   "outputs": [
    {
     "name": "stdout",
     "output_type": "stream",
     "text": [
      "Explained Variance :  [0.2095487  0.20188883 0.17074736 0.15590556 0.06974644 0.068142\n",
      " 0.04815394 0.030937   0.02808217 0.016848  ]\n",
      "Cummulative sum :  [0.2095487  0.41143753 0.58218489 0.73809045 0.80783689 0.87597889\n",
      " 0.92413283 0.95506983 0.983152   1.        ]\n"
     ]
    }
   ],
   "source": [
    "from sklearn.decomposition import PCA\n",
    "pca = PCA(n_components=10)\n",
    "x_pca=pca.fit_transform(x);\n",
    "\n",
    "exp_var_pca = pca.explained_variance_ratio_\n",
    "cum_sum_eigenvalues = np.cumsum(exp_var_pca)\n",
    "\n",
    "print( 'Explained Variance : ',exp_var_pca)\n",
    "print('Cummulative sum : ',cum_sum_eigenvalues)\n"
   ]
  },
  {
   "cell_type": "code",
   "execution_count": 42,
   "metadata": {},
   "outputs": [
    {
     "data": {
      "image/png": "[encoded data removed]",
      "text/plain": [
       "<Figure size 432x288 with 1 Axes>"
      ]
     },
     "metadata": {
      "needs_background": "light"
     },
     "output_type": "display_data"
    }
   ],
   "source": [
    "plt.bar(range(0,len(exp_var_pca)), exp_var_pca, alpha=0.5, align='center', label='Individual explained variance')\n",
    "plt.step(range(0,len(cum_sum_eigenvalues)), cum_sum_eigenvalues, where='mid',label='Cumulative explained variance')\n",
    "plt.ylabel('Explained variance ratio')\n",
    "plt.xlabel('Principal component index')\n",
    "plt.legend(loc='best')\n",
    "plt.tight_layout()\n",
    "plt.show()"
   ]
  },
  {
   "cell_type": "markdown",
   "metadata": {},
   "source": [
    "We can see that the first 4 components explain more than 73% of the variance "
   ]
  },
  {
   "cell_type": "code",
   "execution_count": 39,
   "metadata": {},
   "outputs": [
    {
     "name": "stdout",
     "output_type": "stream",
     "text": [
      "(6037, 4)\n"
     ]
    }
   ],
   "source": [
    "pca = PCA(n_components=4)\n",
    "x_pca=pca.fit_transform(x);\n",
    "print(x_pca.shape)"
   ]
  },
  {
   "cell_type": "markdown",
   "metadata": {},
   "source": [
    "**Part 6**"
   ]
  },
  {
   "cell_type": "markdown",
   "metadata": {},
   "source": [
    "First Classifier : DecisionTree with max depth set to 5 and default number of splits"
   ]
  },
  {
   "cell_type": "code",
   "execution_count": 47,
   "metadata": {
    "scrolled": false
   },
   "outputs": [
    {
     "data": {
      "image/png": "[encoded data removed]",
      "text/plain": [
       "<Figure size 432x288 with 2 Axes>"
      ]
     },
     "metadata": {
      "needs_background": "light"
     },
     "output_type": "display_data"
    },
    {
     "name": "stdout",
     "output_type": "stream",
     "text": [
      "Tree Classifier Results after 10 folds : \n",
      "fit_time  =  [0.03889799 0.02991962 0.0289216  0.03298497 0.0289216  0.03191447\n",
      " 0.02892208 0.02747965 0.0275557  0.03018355]\n",
      "score_time  =  [0.00298953 0.00299287 0.00199509 0.00299239 0.00299191 0.00299215\n",
      " 0.00299263 0.00299215 0.00199389 0.00299168]\n",
      "test_precision_macro  =  [0.73962482 0.79305307 0.77113802 0.76092565 0.70660291 0.74480431\n",
      " 0.80085742 0.78403209 0.77553265 0.75236803]\n",
      "train_precision_macro  =  [0.77321319 0.80107284 0.79992499 0.79377293 0.76915642 0.8031414\n",
      " 0.79902339 0.81083312 0.79559024 0.7910845 ]\n",
      "test_recall_macro  =  [0.7035049  0.71629902 0.69539216 0.72806373 0.69801471 0.6817402\n",
      " 0.73220588 0.70274015 0.70512931 0.70737069]\n",
      "train_recall_macro  =  [0.73355406 0.72911302 0.73032301 0.73907074 0.7386318  0.73279301\n",
      " 0.7408863  0.71671316 0.73636784 0.74605886]\n",
      "test_f1_macro  =  [0.7141768  0.73316767 0.71011227 0.73892328 0.70165566 0.69413718\n",
      " 0.74941168 0.71880621 0.72048568 0.71976275]\n",
      "train_f1_macro  =  [0.74606474 0.74655412 0.74755539 0.75462455 0.749227   0.75030184\n",
      " 0.75710854 0.73521297 0.75250229 0.76011252]\n",
      "test_accuracy  =  [0.7615894  0.78807947 0.77152318 0.77980132 0.7384106  0.75662252\n",
      " 0.79801325 0.77943615 0.77777778 0.7694859 ]\n",
      "train_accuracy  =  [0.78777839 0.79679735 0.79698141 0.79863795 0.78741027 0.79919013\n",
      " 0.80139886 0.79352227 0.79812293 0.80033125]\n",
      "tpr  =  [0.90675]\n",
      "tnr  =  [0.50662739]\n",
      "Tree Classifier Average after 10 folds : \n",
      "Average fit_time  =  0.030570125579833983\n",
      "Average score_time  =  0.0027924299240112303\n",
      "Average test_precision_macro  =  0.7628938955457649\n",
      "Average train_precision_macro  =  0.7936813031560588\n",
      "Average test_recall_macro  =  0.7070460736018545\n",
      "Average train_recall_macro  =  0.7343511789493599\n",
      "Average test_f1_macro  =  0.7200639182259956\n",
      "Average train_f1_macro  =  0.7499263964025107\n",
      "Average test_accuracy  =  0.7720739569261859\n",
      "Average train_accuracy  =  0.7960170812360646\n",
      "Average tpr  =  0.90675\n",
      "Average tnr  =  0.5066273932253313\n"
     ]
    }
   ],
   "source": [
    "clf = tree.DecisionTreeClassifier(max_depth=5)\n",
    "s,cm = report_metrics(clf,x_pca,y,10)\n",
    "plot_cm(cm)\n",
    "print ('Tree Classifier Results after 10 folds : ' )\n",
    "\n",
    "for k,v in s.items():\n",
    "    print (k ,' = ' , v )\n",
    "    \n",
    "print ('Tree Classifier Average after 10 folds : ' )\n",
    "\n",
    "for k,v in s.items():\n",
    "    print ('Average',k ,' = ' , v.sum()/len(v))"
   ]
  },
  {
   "cell_type": "markdown",
   "metadata": {},
   "source": [
    "Second classifier KNN wirt N=18"
   ]
  },
  {
   "cell_type": "code",
   "execution_count": 48,
   "metadata": {
    "scrolled": false
   },
   "outputs": [
    {
     "data": {
      "image/png": "[encoded data removed]",
      "text/plain": [
       "<Figure size 432x288 with 2 Axes>"
      ]
     },
     "metadata": {
      "needs_background": "light"
     },
     "output_type": "display_data"
    },
    {
     "name": "stdout",
     "output_type": "stream",
     "text": [
      "KNN Classifier Results after 10 folds : \n",
      "fit_time  =  [0.02094269 0.01102018 0.02080894 0.01201272 0.01394057 0.01293445\n",
      " 0.01396346 0.01307297 0.01300788 0.01403427]\n",
      "score_time  =  [0.04959369 0.02800941 0.02792525 0.02715969 0.02894139 0.02799153\n",
      " 0.03194022 0.02995992 0.02804279 0.03612399]\n",
      "test_precision_macro  =  [0.77517839 0.75795311 0.73869441 0.76199506 0.73209985 0.75348021\n",
      " 0.76062549 0.7261129  0.72394345 0.73660907]\n",
      "train_precision_macro  =  [0.77182572 0.77440625 0.76922054 0.76321204 0.77597772 0.77181801\n",
      " 0.7704229  0.77318684 0.7707639  0.76617744]\n",
      "test_recall_macro  =  [0.71125    0.69039216 0.6792402  0.69894608 0.69370098 0.69034314\n",
      " 0.68433824 0.67777709 0.68141626 0.68887931]\n",
      "train_recall_macro  =  [0.7064764  0.70907529 0.70699195 0.70489862 0.71383138 0.70823695\n",
      " 0.71038916 0.7112294  0.70673876 0.71061205]\n",
      "test_f1_macro  =  [0.7263216  0.70398288 0.69113342 0.71292678 0.7043094  0.703571\n",
      " 0.69784681 0.68871077 0.69197473 0.70054627]\n",
      "train_f1_macro  =  [0.72135994 0.72416893 0.72157685 0.71887664 0.72892237 0.72307053\n",
      " 0.72497271 0.72609382 0.72148952 0.72463663]\n",
      "test_accuracy  =  [0.77980132 0.76490066 0.75331126 0.76986755 0.75496689 0.76324503\n",
      " 0.76324503 0.74792703 0.74792703 0.75621891]\n",
      "train_accuracy  =  [0.77673477 0.77875943 0.77599853 0.7728695  0.78133628 0.77747101\n",
      " 0.77783913 0.7791682  0.7764078  0.77622378]\n",
      "tpr  =  [0.9065]\n",
      "tnr  =  [0.47275405]\n",
      "KNN Classifier Average after 10 folds : \n",
      "Average fit_time  =  0.014573812484741211\n",
      "Average score_time  =  0.0315687894821167\n",
      "Average test_precision_macro  =  0.7466691950848412\n",
      "Average train_precision_macro  =  0.7707011361702302\n",
      "Average test_recall_macro  =  0.6896283444412248\n",
      "Average train_recall_macro  =  0.7088479967756605\n",
      "Average test_f1_macro  =  0.702132365051504\n",
      "Average train_f1_macro  =  0.7235167944444864\n",
      "Average test_accuracy  =  0.760141071683525\n",
      "Average train_accuracy  =  0.7772808430005675\n",
      "Average tpr  =  0.9065\n",
      "Average tnr  =  0.4727540500736377\n"
     ]
    }
   ],
   "source": [
    "clf = KNeighborsClassifier(n_neighbors=18)\n",
    "s,cm = report_metrics(clf,x_new,y,10)\n",
    "plot_cm(cm)\n",
    "print ('KNN Classifier Results after 10 folds : ' )\n",
    "\n",
    "for k,v in s.items():\n",
    "    print (k ,' = ' , v )\n",
    "    \n",
    "print ('KNN Classifier Average after 10 folds : ' )\n",
    "\n",
    "for k,v in s.items():\n",
    "    print ('Average',k ,' = ' , v.sum()/len(v))"
   ]
  },
  {
   "cell_type": "code",
   "execution_count": 49,
   "metadata": {},
   "outputs": [
    {
     "name": "stdout",
     "output_type": "stream",
     "text": [
      "0.760141071683525\n"
     ]
    }
   ],
   "source": [
    "print(s['test_accuracy'].sum()/len(s['test_accuracy']))"
   ]
  },
  {
   "cell_type": "code",
   "execution_count": null,
   "metadata": {},
   "outputs": [],
   "source": []
  }
 ],
 "metadata": {
  "kernelspec": {
   "display_name": "Python 3",
   "language": "python",
   "name": "python3"
  },
  "language_info": {
   "codemirror_mode": {
    "name": "ipython",
    "version": 3
   },
   "file_extension": ".py",
   "mimetype": "text/x-python",
   "name": "python",
   "nbconvert_exporter": "python",
   "pygments_lexer": "ipython3",
   "version": "3.8.8"
  }
 },
 "nbformat": 4,
 "nbformat_minor": 4
}
