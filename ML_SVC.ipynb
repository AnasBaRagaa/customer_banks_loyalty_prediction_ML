{
 "cells": [
  {
   "cell_type": "markdown",
   "metadata": {},
   "source": [
    "<h1>SVC<h1>\n",
    "\n",
    "  \n",
    " <h5>Anas Ba Ragaa _ B00075797<h5>\n",
    " <h5>Rayan Ben Daya _ B00073990 <h5>\n",
    " <h5>Rashid Alnuaimi  _ B00071921<h5>"
   ]
  },
  {
   "cell_type": "code",
   "execution_count": 1,
   "metadata": {},
   "outputs": [],
   "source": [
    "import numpy as np\n",
    "import matplotlib.pyplot as plt\n",
    "\n",
    "from sklearn import tree\n",
    "from sklearn.model_selection import train_test_split\n",
    "from sklearn.model_selection import cross_validate\n",
    "import pandas as pd\n",
    "\n",
    "#new\n",
    "from sklearn.svm import SVC \n",
    "from sklearn.svm import LinearSVC\n",
    "\n",
    "# def save_array(a,filename):\n",
    "#     with open(filename, 'wb') as f:\n",
    "#         np.save(f, a)\n",
    "# def read_array(filename):\n",
    "#     with open(filename, 'rb') as f:\n",
    "#         a = np.load(f)\n",
    "#     return a\n",
    "\n",
    "# X_FILE='x_file.txt'\n",
    "# Y_FILE='y_file.txt'\n",
    "\n",
    "#2 3 screenshot and explain\n",
    "#4 graph nodes vs accuracy, change attributes/minimumsplit/values\n",
    "\n"
   ]
  },
  {
   "cell_type": "code",
   "execution_count": 2,
   "metadata": {},
   "outputs": [
    {
     "data": {
      "text/plain": [
       "array([[   569,      1,      0, ...,      1,      0, 134272],\n",
       "       [   705,      2,      1, ...,      1,      1, 109496],\n",
       "       [   684,      1,      1, ...,      1,      0, 117038],\n",
       "       ...,\n",
       "       [   772,      2,      0, ...,      1,      0,  92888],\n",
       "       [   708,      2,      1, ...,      0,      1, 125311],\n",
       "       [   728,      0,      0, ...,      0,      0, 106977]])"
      ]
     },
     "execution_count": 2,
     "metadata": {},
     "output_type": "execute_result"
    }
   ],
   "source": [
    "\n",
    "##################################\n",
    "        #Loading and Encodign #\n",
    "####################################\n",
    "#Machine Learning\n",
    "#Assignment 2\n",
    "\n",
    "#part 1\n",
    "input_file = \"Churn_Modelling.csv\"\n",
    "# reading file to pandas dataframe\n",
    "df_ori = pd.read_csv(input_file, header = 0)\n",
    "# dropping the unrelated columns\n",
    "df=df_ori.drop(columns=['CustomerId', 'Surname','RowNumber'])\n",
    "# Encoding the catogerical features to numerical by replacing their values with numbers\n",
    "df=df.replace([\"Female\",\"Male\"],[1,0])\n",
    "df=df.replace([\"France\",\"Spain\",\"Germany\",],[0,1,2])\n",
    "#dataset after manipulation\n",
    "\n",
    "# Sampling to make the data balanced\n",
    "df=df.sample(frac=1).groupby('Exited', sort=False).head(4000)\n",
    "df\n",
    "y=df['Exited'].to_numpy()\n",
    "y=y.astype(int)\n",
    "x=df.drop(columns=['Exited']).to_numpy()\n",
    "x=x.astype(int)\n",
    "x\n",
    "# run only once to save file for consistency\n",
    "#save_array(y,Y_FILE)\n",
    "#save_array(x,X_FILE)\n",
    "\n",
    "\n"
   ]
  },
  {
   "cell_type": "code",
   "execution_count": 3,
   "metadata": {},
   "outputs": [],
   "source": [
    "# #Loading x and y from files\n",
    "# x=read_array(X_FILE)\n",
    "# y=read_array(Y_FILE)\n",
    "\n"
   ]
  },
  {
   "cell_type": "code",
   "execution_count": 9,
   "metadata": {},
   "outputs": [
    {
     "name": "stderr",
     "output_type": "stream",
     "text": [
      "C:\\ProgramData\\Anaconda3\\lib\\site-packages\\sklearn\\svm\\base.py:929: ConvergenceWarning: Liblinear failed to converge, increase the number of iterations.\n",
      "  \"the number of iterations.\", ConvergenceWarning)\n",
      "C:\\ProgramData\\Anaconda3\\lib\\site-packages\\sklearn\\svm\\base.py:929: ConvergenceWarning: Liblinear failed to converge, increase the number of iterations.\n",
      "  \"the number of iterations.\", ConvergenceWarning)\n",
      "C:\\ProgramData\\Anaconda3\\lib\\site-packages\\sklearn\\svm\\base.py:929: ConvergenceWarning: Liblinear failed to converge, increase the number of iterations.\n",
      "  \"the number of iterations.\", ConvergenceWarning)\n",
      "C:\\ProgramData\\Anaconda3\\lib\\site-packages\\sklearn\\svm\\base.py:929: ConvergenceWarning: Liblinear failed to converge, increase the number of iterations.\n",
      "  \"the number of iterations.\", ConvergenceWarning)\n"
     ]
    },
    {
     "name": "stdout",
     "output_type": "stream",
     "text": [
      "{'fit_time': array([0.41000795, 0.49926758, 0.50365162, 0.52231145, 0.54354787]), 'score_time': array([0.        , 0.00095749, 0.00099826, 0.00100112, 0.00103474]), 'test_score': array([0.65562914, 0.66142384, 0.66280033, 0.66280033, 0.66528583]), 'train_score': array([0.66224891, 0.65500104, 0.66252588, 0.66252588, 0.66335404])}\n",
      "Average training score for LinearSVC =  0.6611311490661793\n",
      "Average training score for LinearSVC =  0.6615878951151396\n"
     ]
    },
    {
     "name": "stderr",
     "output_type": "stream",
     "text": [
      "C:\\ProgramData\\Anaconda3\\lib\\site-packages\\sklearn\\svm\\base.py:929: ConvergenceWarning: Liblinear failed to converge, increase the number of iterations.\n",
      "  \"the number of iterations.\", ConvergenceWarning)\n"
     ]
    }
   ],
   "source": [
    "#linear SVC\n",
    "svc = LinearSVC()\n",
    "\n",
    "#cross validate with k=5\n",
    "\n",
    "cv_results_5=cross_validate(svc, x, y, cv=5, return_train_score = True)\n",
    "print(cv_results_5)\n",
    "\n",
    "#average training score\n",
    "train_score_k5=cv_results_5[\"train_score\"]\n",
    "avg_train_score_k5= sum(train_score_k5)/len(train_score_k5)\n",
    "print(\"Average training score for LinearSVC = \", avg_train_score_k5)\n",
    "\n",
    "#average test score\n",
    "test_score_k5=cv_results_5[\"test_score\"]\n",
    "avg_test_score_k5= sum(test_score_k5)/len(test_score_k5)\n",
    "print(\"Average testing score for LinearSVC = \", avg_test_score_k5)\n",
    "\n"
   ]
  },
  {
   "cell_type": "code",
   "execution_count": 11,
   "metadata": {},
   "outputs": [
    {
     "name": "stdout",
     "output_type": "stream",
     "text": [
      "{'fit_time': array([671.52015448, 650.75172949, 614.36551309, 551.30262065,\n",
      "       594.0216825 ]), 'score_time': array([0.03490663, 0.03989458, 0.03291225, 0.03187227, 0.03091645]), 'test_score': array([0.67963576, 0.69619205, 0.68185584, 0.70173985, 0.68185584]), 'train_score': array([0.68419963, 0.68958376, 0.69834369, 0.69482402, 0.68385093])}\n",
      "Average training score for SVC(Linear Kernel) =  0.6901604051093999\n",
      "Average testing score for SVC(Linear Kernel) =  0.6882558694590607\n"
     ]
    }
   ],
   "source": [
    "#SVC (Linear Kernel)\n",
    "svc = SVC(kernel = 'linear')\n",
    "\n",
    "#cross validate with k=5\n",
    "\n",
    "cv_results_5=cross_validate(svc, x, y, cv=5, return_train_score = True)\n",
    "print(cv_results_5)\n",
    "\n",
    "#average training score\n",
    "train_score_k5=cv_results_5[\"train_score\"]\n",
    "avg_train_score_k5= sum(train_score_k5)/len(train_score_k5)\n",
    "print(\"Average training score for SVC(Linear Kernel) = \", avg_train_score_k5)\n",
    "\n",
    "#average test score\n",
    "test_score_k5=cv_results_5[\"test_score\"]\n",
    "avg_test_score_k5= sum(test_score_k5)/len(test_score_k5)\n",
    "print(\"Average testing score for SVC(Linear Kernel) = \", avg_test_score_k5)"
   ]
  },
  {
   "cell_type": "code",
   "execution_count": 12,
   "metadata": {},
   "outputs": [
    {
     "name": "stdout",
     "output_type": "stream",
     "text": [
      "At gamma= auto, C=default, Average training score for SVC(rbf Kernel) =  1.0\n",
      "At gamma= auto,C=default, Average test score for SVC(rbf Kernel) =  0.6625808610917552\n",
      "\n",
      "\n",
      "\n",
      "Gamma=  1\n",
      "[0.66225166 0.66225166 0.66280033 0.66280033 0.66280033]\n",
      "[1. 1. 1. 1. 1.]\n",
      "At gamma=  1 , Average training score for SVC(rbf Kernel) =  1.0\n",
      "At gamma=  1 , Average test score for SVC(rbf Kernel) =  0.6625808610917552\n",
      "\n",
      "\n",
      "\n",
      "Gamma=  10\n",
      "[0.66225166 0.66225166 0.66280033 0.66280033 0.66280033]\n",
      "[1. 1. 1. 1. 1.]\n",
      "At gamma=  10 , Average training score for SVC(rbf Kernel) =  1.0\n",
      "At gamma=  10 , Average test score for SVC(rbf Kernel) =  0.6625808610917552\n",
      "\n",
      "\n",
      "\n",
      "Gamma=  100\n",
      "[0.66225166 0.66225166 0.66280033 0.66280033 0.66280033]\n",
      "[1. 1. 1. 1. 1.]\n",
      "At gamma=  100 , Average training score for SVC(rbf Kernel) =  1.0\n",
      "At gamma=  100 , Average test score for SVC(rbf Kernel) =  0.6625808610917552\n",
      "\n",
      "\n",
      "\n",
      "At C=  1 , Average training score for SVC(rbf Kernel) =  1.0\n",
      "At C=  1 , Average test score for SVC(rbf Kernel) =  0.6625808610917552\n",
      "\n",
      "\n",
      "\n",
      "At C=  10 , Average training score for SVC(rbf Kernel) =  1.0\n",
      "At C=  10 , Average test score for SVC(rbf Kernel) =  0.6625808610917552\n",
      "\n",
      "\n",
      "\n",
      "At C=  100 , Average training score for SVC(rbf Kernel) =  1.0\n",
      "At C=  100 , Average test score for SVC(rbf Kernel) =  0.6625808610917552\n",
      "\n",
      "\n",
      "\n",
      "At C=  1000 , Average training score for SVC(rbf Kernel) =  1.0\n",
      "At C=  1000 , Average test score for SVC(rbf Kernel) =  0.6625808610917552\n",
      "\n",
      "\n",
      "\n"
     ]
    }
   ],
   "source": [
    "#svc rbf kernal\n",
    "\n",
    "#when gamma = auto, and c= defualt\n",
    "svc = SVC(kernel = 'rbf',gamma=\"auto\")    \n",
    "\n",
    "cv_results_5=cross_validate(svc, x, y, cv=5, return_train_score = True)\n",
    "\n",
    "test_acc =cv_results_5['test_score']\n",
    "train_acc=cv_results_5['train_score']\n",
    "# #average training score\n",
    "\n",
    "print(\"At gamma= auto, C=default, Average training score for SVC(rbf Kernel) = \", np.mean(train_acc))\n",
    "\n",
    "#average test score\n",
    "\n",
    "print(\"At gamma= auto,C=default, Average test score for SVC(rbf Kernel) = \",np.mean(test_acc))\n",
    "\n",
    "\n",
    "\n",
    "######## \n",
    "# tweaking gamma\n",
    "########\n",
    "\n",
    "it=[1,10,100]\n",
    "\n",
    "print(\"\\n\\n\")\n",
    "for i in it:\n",
    "    svc = SVC(kernel = 'rbf',gamma=i )\n",
    "    \n",
    "    \n",
    "    print(\"Gamma= \",i)\n",
    "    cv_results_5=cross_validate(svc, x, y, cv=5, return_train_score = True)\n",
    "    #taking train and test scores\n",
    "    test_acc =cv_results_5['test_score']\n",
    "    train_acc=cv_results_5['train_score']\n",
    "    \n",
    "    print(test_acc)\n",
    "    print(train_acc)\n",
    "    \n",
    "    # #average training score\n",
    "    print(\"At gamma= \",i,\", Average training score for SVC(rbf Kernel) = \", np.mean(train_acc))\n",
    "\n",
    "    #average test score\n",
    "  \n",
    "    print(\"At gamma= \",i,\", Average test score for SVC(rbf Kernel) = \", np.mean(test_acc))\n",
    "    print(\"\\n\\n\")\n",
    "\n",
    "    \n",
    "it=[1,10,100,1000]\n",
    "######## \n",
    "# tweaking C\n",
    "########    \n",
    "for i in it:\n",
    "    svc = SVC(kernel = 'rbf',C=i,gamma=\"auto\")\n",
    "    \n",
    "    \n",
    "    cv_results_5=cross_validate(svc, x, y, cv=5, return_train_score = True)\n",
    "    test_acc =cv_results_5['test_score']\n",
    "    train_acc=cv_results_5['train_score']\n",
    "\n",
    "    # #average training score\n",
    "\n",
    "    print(\"At C= \",i,\", Average training score for SVC(rbf Kernel) = \", np.mean(train_acc))\n",
    "\n",
    "    #average test score\n",
    "    \n",
    "    print(\"At C= \",i,\", Average test score for SVC(rbf Kernel) = \", np.mean(test_acc))\n",
    "    print(\"\\n\\n\")\n",
    "\n",
    "    \n"
   ]
  },
  {
   "cell_type": "code",
   "execution_count": 5,
   "metadata": {},
   "outputs": [
    {
     "name": "stderr",
     "output_type": "stream",
     "text": [
      "C:\\ProgramData\\Anaconda3\\lib\\site-packages\\sklearn\\svm\\base.py:193: FutureWarning: The default value of gamma will change from 'auto' to 'scale' in version 0.22 to account better for unscaled features. Set gamma explicitly to 'auto' or 'scale' to avoid this warning.\n",
      "  \"avoid this warning.\", FutureWarning)\n",
      "C:\\ProgramData\\Anaconda3\\lib\\site-packages\\sklearn\\svm\\base.py:241: ConvergenceWarning: Solver terminated early (max_iter=250000).  Consider pre-processing your data with StandardScaler or MinMaxScaler.\n",
      "  % self.max_iter, ConvergenceWarning)\n",
      "C:\\ProgramData\\Anaconda3\\lib\\site-packages\\sklearn\\svm\\base.py:193: FutureWarning: The default value of gamma will change from 'auto' to 'scale' in version 0.22 to account better for unscaled features. Set gamma explicitly to 'auto' or 'scale' to avoid this warning.\n",
      "  \"avoid this warning.\", FutureWarning)\n",
      "C:\\ProgramData\\Anaconda3\\lib\\site-packages\\sklearn\\svm\\base.py:241: ConvergenceWarning: Solver terminated early (max_iter=250000).  Consider pre-processing your data with StandardScaler or MinMaxScaler.\n",
      "  % self.max_iter, ConvergenceWarning)\n",
      "C:\\ProgramData\\Anaconda3\\lib\\site-packages\\sklearn\\svm\\base.py:193: FutureWarning: The default value of gamma will change from 'auto' to 'scale' in version 0.22 to account better for unscaled features. Set gamma explicitly to 'auto' or 'scale' to avoid this warning.\n",
      "  \"avoid this warning.\", FutureWarning)\n",
      "C:\\ProgramData\\Anaconda3\\lib\\site-packages\\sklearn\\svm\\base.py:241: ConvergenceWarning: Solver terminated early (max_iter=250000).  Consider pre-processing your data with StandardScaler or MinMaxScaler.\n",
      "  % self.max_iter, ConvergenceWarning)\n",
      "C:\\ProgramData\\Anaconda3\\lib\\site-packages\\sklearn\\svm\\base.py:193: FutureWarning: The default value of gamma will change from 'auto' to 'scale' in version 0.22 to account better for unscaled features. Set gamma explicitly to 'auto' or 'scale' to avoid this warning.\n",
      "  \"avoid this warning.\", FutureWarning)\n",
      "C:\\ProgramData\\Anaconda3\\lib\\site-packages\\sklearn\\svm\\base.py:241: ConvergenceWarning: Solver terminated early (max_iter=250000).  Consider pre-processing your data with StandardScaler or MinMaxScaler.\n",
      "  % self.max_iter, ConvergenceWarning)\n",
      "C:\\ProgramData\\Anaconda3\\lib\\site-packages\\sklearn\\svm\\base.py:193: FutureWarning: The default value of gamma will change from 'auto' to 'scale' in version 0.22 to account better for unscaled features. Set gamma explicitly to 'auto' or 'scale' to avoid this warning.\n",
      "  \"avoid this warning.\", FutureWarning)\n",
      "C:\\ProgramData\\Anaconda3\\lib\\site-packages\\sklearn\\svm\\base.py:241: ConvergenceWarning: Solver terminated early (max_iter=250000).  Consider pre-processing your data with StandardScaler or MinMaxScaler.\n",
      "  % self.max_iter, ConvergenceWarning)\n",
      "C:\\ProgramData\\Anaconda3\\lib\\site-packages\\sklearn\\svm\\base.py:193: FutureWarning: The default value of gamma will change from 'auto' to 'scale' in version 0.22 to account better for unscaled features. Set gamma explicitly to 'auto' or 'scale' to avoid this warning.\n",
      "  \"avoid this warning.\", FutureWarning)\n"
     ]
    },
    {
     "name": "stdout",
     "output_type": "stream",
     "text": [
      "{'fit_time': array([6.50300002, 6.72917557, 6.56031489, 6.49152184, 6.69356394]), 'score_time': array([0.01196527, 0.01097059, 0.01391339, 0.01097274, 0.00997257]), 'test_score': array([0.42798013, 0.49006623, 0.45816073, 0.41507871, 0.43247722]), 'train_score': array([0.41830607, 0.47463243, 0.46521739, 0.44906832, 0.42443064])}\n",
      "At degree=  2 , Average training score for SVC(poly Kernel) =  0.4463309705381608\n",
      "At degree=  2 , Average test score for SVC(poly Kernel) =  0.44475260209484413\n"
     ]
    },
    {
     "name": "stderr",
     "output_type": "stream",
     "text": [
      "C:\\ProgramData\\Anaconda3\\lib\\site-packages\\sklearn\\svm\\base.py:241: ConvergenceWarning: Solver terminated early (max_iter=250000).  Consider pre-processing your data with StandardScaler or MinMaxScaler.\n",
      "  % self.max_iter, ConvergenceWarning)\n",
      "C:\\ProgramData\\Anaconda3\\lib\\site-packages\\sklearn\\svm\\base.py:193: FutureWarning: The default value of gamma will change from 'auto' to 'scale' in version 0.22 to account better for unscaled features. Set gamma explicitly to 'auto' or 'scale' to avoid this warning.\n",
      "  \"avoid this warning.\", FutureWarning)\n",
      "C:\\ProgramData\\Anaconda3\\lib\\site-packages\\sklearn\\svm\\base.py:241: ConvergenceWarning: Solver terminated early (max_iter=250000).  Consider pre-processing your data with StandardScaler or MinMaxScaler.\n",
      "  % self.max_iter, ConvergenceWarning)\n",
      "C:\\ProgramData\\Anaconda3\\lib\\site-packages\\sklearn\\svm\\base.py:193: FutureWarning: The default value of gamma will change from 'auto' to 'scale' in version 0.22 to account better for unscaled features. Set gamma explicitly to 'auto' or 'scale' to avoid this warning.\n",
      "  \"avoid this warning.\", FutureWarning)\n",
      "C:\\ProgramData\\Anaconda3\\lib\\site-packages\\sklearn\\svm\\base.py:241: ConvergenceWarning: Solver terminated early (max_iter=250000).  Consider pre-processing your data with StandardScaler or MinMaxScaler.\n",
      "  % self.max_iter, ConvergenceWarning)\n",
      "C:\\ProgramData\\Anaconda3\\lib\\site-packages\\sklearn\\svm\\base.py:193: FutureWarning: The default value of gamma will change from 'auto' to 'scale' in version 0.22 to account better for unscaled features. Set gamma explicitly to 'auto' or 'scale' to avoid this warning.\n",
      "  \"avoid this warning.\", FutureWarning)\n",
      "C:\\ProgramData\\Anaconda3\\lib\\site-packages\\sklearn\\svm\\base.py:241: ConvergenceWarning: Solver terminated early (max_iter=250000).  Consider pre-processing your data with StandardScaler or MinMaxScaler.\n",
      "  % self.max_iter, ConvergenceWarning)\n",
      "C:\\ProgramData\\Anaconda3\\lib\\site-packages\\sklearn\\svm\\base.py:193: FutureWarning: The default value of gamma will change from 'auto' to 'scale' in version 0.22 to account better for unscaled features. Set gamma explicitly to 'auto' or 'scale' to avoid this warning.\n",
      "  \"avoid this warning.\", FutureWarning)\n"
     ]
    },
    {
     "name": "stdout",
     "output_type": "stream",
     "text": [
      "{'fit_time': array([6.50931525, 6.48140097, 6.59005952, 6.44927454, 6.48675418]), 'score_time': array([0.00598335, 0.00897598, 0.01051283, 0.0069375 , 0.01296282]), 'test_score': array([0.41556291, 0.40231788, 0.42253521, 0.6039768 , 0.45567523]), 'train_score': array([0.39821909, 0.40463864, 0.4136646 , 0.58695652, 0.44989648])}\n",
      "At degree=  3 , Average training score for SVC(poly Kernel) =  0.450675066572858\n",
      "At degree=  3 , Average test score for SVC(poly Kernel) =  0.4600136071591215\n",
      "{'fit_time': array([0.00398898, 0.00299191, 0.00299168, 0.00299144, 0.0039897 ]), 'score_time': array([0.00099778, 0.00099754, 0.00099802, 0.00099778, 0.00099778]), 'test_score': array([0.33774834, 0.33774834, 0.33719967, 0.33719967, 0.33719967]), 'train_score': array([0.33733692, 0.33733692, 0.33747412, 0.33747412, 0.33747412])}\n",
      "At degree=  5 , Average training score for SVC(poly Kernel) =  0.33741924115302346\n",
      "At degree=  5 , Average test score for SVC(poly Kernel) =  0.33741913890824493\n",
      "{'fit_time': array([0.00199485, 0.00299239, 0.00199509, 0.00299239, 0.00199533]), 'score_time': array([0.0009973 , 0.        , 0.00099754, 0.        , 0.00099707]), 'test_score': array([0.33774834, 0.33774834, 0.33719967, 0.33719967, 0.33719967]), 'train_score': array([0.33733692, 0.33733692, 0.33747412, 0.33747412, 0.33747412])}\n",
      "At degree=  10 , Average training score for SVC(poly Kernel) =  0.33741924115302346\n",
      "At degree=  10 , Average test score for SVC(poly Kernel) =  0.33741913890824493\n"
     ]
    },
    {
     "name": "stderr",
     "output_type": "stream",
     "text": [
      "C:\\ProgramData\\Anaconda3\\lib\\site-packages\\sklearn\\svm\\base.py:241: ConvergenceWarning: Solver terminated early (max_iter=250000).  Consider pre-processing your data with StandardScaler or MinMaxScaler.\n",
      "  % self.max_iter, ConvergenceWarning)\n",
      "C:\\ProgramData\\Anaconda3\\lib\\site-packages\\sklearn\\svm\\base.py:193: FutureWarning: The default value of gamma will change from 'auto' to 'scale' in version 0.22 to account better for unscaled features. Set gamma explicitly to 'auto' or 'scale' to avoid this warning.\n",
      "  \"avoid this warning.\", FutureWarning)\n",
      "C:\\ProgramData\\Anaconda3\\lib\\site-packages\\sklearn\\svm\\base.py:193: FutureWarning: The default value of gamma will change from 'auto' to 'scale' in version 0.22 to account better for unscaled features. Set gamma explicitly to 'auto' or 'scale' to avoid this warning.\n",
      "  \"avoid this warning.\", FutureWarning)\n",
      "C:\\ProgramData\\Anaconda3\\lib\\site-packages\\sklearn\\svm\\base.py:193: FutureWarning: The default value of gamma will change from 'auto' to 'scale' in version 0.22 to account better for unscaled features. Set gamma explicitly to 'auto' or 'scale' to avoid this warning.\n",
      "  \"avoid this warning.\", FutureWarning)\n",
      "C:\\ProgramData\\Anaconda3\\lib\\site-packages\\sklearn\\svm\\base.py:193: FutureWarning: The default value of gamma will change from 'auto' to 'scale' in version 0.22 to account better for unscaled features. Set gamma explicitly to 'auto' or 'scale' to avoid this warning.\n",
      "  \"avoid this warning.\", FutureWarning)\n",
      "C:\\ProgramData\\Anaconda3\\lib\\site-packages\\sklearn\\svm\\base.py:193: FutureWarning: The default value of gamma will change from 'auto' to 'scale' in version 0.22 to account better for unscaled features. Set gamma explicitly to 'auto' or 'scale' to avoid this warning.\n",
      "  \"avoid this warning.\", FutureWarning)\n",
      "C:\\ProgramData\\Anaconda3\\lib\\site-packages\\sklearn\\svm\\base.py:193: FutureWarning: The default value of gamma will change from 'auto' to 'scale' in version 0.22 to account better for unscaled features. Set gamma explicitly to 'auto' or 'scale' to avoid this warning.\n",
      "  \"avoid this warning.\", FutureWarning)\n",
      "C:\\ProgramData\\Anaconda3\\lib\\site-packages\\sklearn\\svm\\base.py:193: FutureWarning: The default value of gamma will change from 'auto' to 'scale' in version 0.22 to account better for unscaled features. Set gamma explicitly to 'auto' or 'scale' to avoid this warning.\n",
      "  \"avoid this warning.\", FutureWarning)\n",
      "C:\\ProgramData\\Anaconda3\\lib\\site-packages\\sklearn\\svm\\base.py:193: FutureWarning: The default value of gamma will change from 'auto' to 'scale' in version 0.22 to account better for unscaled features. Set gamma explicitly to 'auto' or 'scale' to avoid this warning.\n",
      "  \"avoid this warning.\", FutureWarning)\n",
      "C:\\ProgramData\\Anaconda3\\lib\\site-packages\\sklearn\\svm\\base.py:193: FutureWarning: The default value of gamma will change from 'auto' to 'scale' in version 0.22 to account better for unscaled features. Set gamma explicitly to 'auto' or 'scale' to avoid this warning.\n",
      "  \"avoid this warning.\", FutureWarning)\n",
      "C:\\ProgramData\\Anaconda3\\lib\\site-packages\\sklearn\\svm\\base.py:193: FutureWarning: The default value of gamma will change from 'auto' to 'scale' in version 0.22 to account better for unscaled features. Set gamma explicitly to 'auto' or 'scale' to avoid this warning.\n",
      "  \"avoid this warning.\", FutureWarning)\n"
     ]
    }
   ],
   "source": [
    "#SVC (poly Kernel)\n",
    "\n",
    "\n",
    "######## \n",
    "# tweaking degree\n",
    "########\n",
    "\n",
    "it=[2,3,5,10]\n",
    "\n",
    "for i in it:\n",
    "    svc = SVC(kernel = 'poly',degree=i, max_iter = 250000)\n",
    "    \n",
    "    cv_results_5=cross_validate(svc, x, y, cv=5, return_train_score = True)\n",
    "    print(cv_results_5)\n",
    "\n",
    "    # #average training score\n",
    "    train_score_k5=cv_results_5[\"train_score\"]\n",
    "    avg_train_score_k5= sum(train_score_k5)/len(train_score_k5)\n",
    "    print(\"At degree= \",i,\", Average training score for SVC(poly Kernel) = \", avg_train_score_k5)\n",
    "\n",
    "    #average test score\n",
    "    test_score_k5=cv_results_5[\"test_score\"]\n",
    "    avg_test_score_k5= sum(test_score_k5)/len(test_score_k5)\n",
    "    print(\"At degree= \",i,\", Average test score for SVC(poly Kernel) = \", avg_test_score_k5)"
   ]
  },
  {
   "cell_type": "code",
   "execution_count": 6,
   "metadata": {},
   "outputs": [
    {
     "name": "stderr",
     "output_type": "stream",
     "text": [
      "C:\\ProgramData\\Anaconda3\\lib\\site-packages\\sklearn\\svm\\base.py:193: FutureWarning: The default value of gamma will change from 'auto' to 'scale' in version 0.22 to account better for unscaled features. Set gamma explicitly to 'auto' or 'scale' to avoid this warning.\n",
      "  \"avoid this warning.\", FutureWarning)\n",
      "C:\\ProgramData\\Anaconda3\\lib\\site-packages\\sklearn\\svm\\base.py:193: FutureWarning: The default value of gamma will change from 'auto' to 'scale' in version 0.22 to account better for unscaled features. Set gamma explicitly to 'auto' or 'scale' to avoid this warning.\n",
      "  \"avoid this warning.\", FutureWarning)\n",
      "C:\\ProgramData\\Anaconda3\\lib\\site-packages\\sklearn\\svm\\base.py:193: FutureWarning: The default value of gamma will change from 'auto' to 'scale' in version 0.22 to account better for unscaled features. Set gamma explicitly to 'auto' or 'scale' to avoid this warning.\n",
      "  \"avoid this warning.\", FutureWarning)\n",
      "C:\\ProgramData\\Anaconda3\\lib\\site-packages\\sklearn\\svm\\base.py:193: FutureWarning: The default value of gamma will change from 'auto' to 'scale' in version 0.22 to account better for unscaled features. Set gamma explicitly to 'auto' or 'scale' to avoid this warning.\n",
      "  \"avoid this warning.\", FutureWarning)\n",
      "C:\\ProgramData\\Anaconda3\\lib\\site-packages\\sklearn\\svm\\base.py:193: FutureWarning: The default value of gamma will change from 'auto' to 'scale' in version 0.22 to account better for unscaled features. Set gamma explicitly to 'auto' or 'scale' to avoid this warning.\n",
      "  \"avoid this warning.\", FutureWarning)\n"
     ]
    },
    {
     "name": "stdout",
     "output_type": "stream",
     "text": [
      "{'fit_time': array([0.32474613, 0.35307789, 0.36502385, 0.36506772, 0.36003661]), 'score_time': array([0.06283355, 0.07878637, 0.06382942, 0.06582332, 0.06682086]), 'test_score': array([0.66225166, 0.66225166, 0.66280033, 0.66280033, 0.66280033]), 'train_score': array([0.66266308, 0.66266308, 0.66252588, 0.66252588, 0.66252588])}\n",
      "Average training score for SVC(sigmoid Kernel) =  0.6625807588469765\n",
      "Average test score for SVC(sigmoid Kernel) =  0.6625808610917552\n"
     ]
    }
   ],
   "source": [
    "#SVC (sigmoid Kernel)\n",
    "\n",
    "\n",
    "svc = SVC(kernel = 'sigmoid')\n",
    "    \n",
    "cv_results_5=cross_validate(svc, x, y, cv=5, return_train_score = True)\n",
    "print(cv_results_5)\n",
    "\n",
    "# #average training score\n",
    "train_score_k5=cv_results_5[\"train_score\"]\n",
    "avg_train_score_k5= sum(train_score_k5)/len(train_score_k5)\n",
    "print(\"Average training score for SVC(sigmoid Kernel) = \", avg_train_score_k5)\n",
    "\n",
    "#average test score\n",
    "test_score_k5=cv_results_5[\"test_score\"]\n",
    "avg_test_score_k5= sum(test_score_k5)/len(test_score_k5)\n",
    "print(\"Average test score for SVC(sigmoid Kernel) = \", avg_test_score_k5)"
   ]
  },
  {
   "cell_type": "code",
   "execution_count": null,
   "metadata": {},
   "outputs": [],
   "source": []
  }
 ],
 "metadata": {
  "kernelspec": {
   "display_name": "Python 3",
   "language": "python",
   "name": "python3"
  },
  "language_info": {
   "codemirror_mode": {
    "name": "ipython",
    "version": 3
   },
   "file_extension": ".py",
   "mimetype": "text/x-python",
   "name": "python",
   "nbconvert_exporter": "python",
   "pygments_lexer": "ipython3",
   "version": "3.8.8"
  }
 },
 "nbformat": 4,
 "nbformat_minor": 4
}
