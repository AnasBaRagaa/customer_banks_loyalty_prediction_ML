{
 "cells": [
  {
   "cell_type": "markdown",
   "metadata": {},
   "source": [
    "<h1>DecisionTreeClassifier<h1>\n",
    "\n",
    "  \n",
    " <h5>Anas Ba Ragaa _ B00075797<h5>\n",
    " <h5>Rayan Ben Daya _ B00073990 <h5>\n",
    " <h5>Rashid Alnuaimi  _ B00071921<h5>"
   ]
  },
  {
   "cell_type": "code",
   "execution_count": 3,
   "metadata": {},
   "outputs": [],
   "source": [
    "import numpy as np\n",
    "from sklearn import tree\n",
    "from sklearn.model_selection import train_test_split\n",
    "from sklearn.model_selection import cross_validate\n",
    "import pandas as pd\n",
    "\n",
    "def save_array(a,filename):\n",
    "    with open(filename, 'wb') as f:\n",
    "        np.save(f, a)\n",
    "def read_array(filename):\n",
    "    with open(filename, 'rb') as f:\n",
    "        a = np.load(f)\n",
    "    return a\n",
    "\n",
    "\n",
    "X_FILE='x_file.txt'\n",
    "Y_FILE='y_file.txt'"
   ]
  },
  {
   "cell_type": "code",
   "execution_count": 4,
   "metadata": {},
   "outputs": [],
   "source": [
    "\n",
    "##################################\n",
    "        #Loading and Encodign #\n",
    "####################################\n",
    "#Machine Learning\n",
    "#Assignment 2\n",
    "\n",
    "#part 1\n",
    "input_file = \"Churn_Modelling.csv\"\n",
    "# reading file to pandas dataframe\n",
    "df_ori = pd.read_csv(input_file, header = 0)\n",
    "# dropping the unrelated columns\n",
    "df=df_ori.drop(columns=['CustomerId', 'Surname','RowNumber'])\n",
    "# Encoding the catogerical features to numerical by replacing their values with numbers\n",
    "df=df.replace([\"Female\",\"Male\"],[1,0])\n",
    "df=df.replace([\"France\",\"Spain\",\"Germany\",],[0,1,2])\n",
    "#dataset after manipulation\n",
    "\n",
    "# Sampling to make the data balanced\n",
    "df=df.sample(frac=1).groupby('Exited', sort=False).head(2000)\n",
    "df\n",
    "y=df['Exited'].to_numpy()\n",
    "y=y.astype(int)\n",
    "x=df.drop(columns=['Exited']).to_numpy()\n",
    "x=x.astype(int)\n",
    "x\n",
    "# run only once to save file for consistency\n",
    "save_array(y,Y_FILE)\n",
    "save_array(x,X_FILE)\n",
    "\n",
    "\n",
    "\n"
   ]
  },
  {
   "cell_type": "code",
   "execution_count": 36,
   "metadata": {},
   "outputs": [],
   "source": [
    "#Loading x and y from files\n",
    "x=read_array(X_FILE)\n",
    "y=read_array(Y_FILE)\n",
    "\n"
   ]
  },
  {
   "cell_type": "code",
   "execution_count": 70,
   "metadata": {
    "scrolled": true
   },
   "outputs": [
    {
     "name": "stdout",
     "output_type": "stream",
     "text": [
      "25\n",
      "24\n",
      "24\n",
      "25\n",
      "23\n",
      "22\n",
      "23\n",
      "24\n",
      "23\n",
      "24\n",
      "22\n",
      "29\n",
      "25\n",
      "22\n",
      "22\n",
      "23\n",
      "22\n",
      "24\n",
      "27\n",
      "23\n",
      "22\n",
      "22\n",
      "24\n",
      "25\n",
      "24\n",
      "28\n",
      "26\n",
      "24\n",
      "24\n",
      "24\n",
      "[1.0, 1.0, 1.0, 1.0, 1.0, 1.0, 1.0, 1.0, 1.0, 1.0, 1.0, 1.0, 1.0, 1.0, 1.0, 1.0, 1.0, 1.0, 1.0, 1.0, 1.0, 1.0, 1.0, 1.0, 1.0, 1.0, 1.0, 1.0, 1.0, 1.0]\n",
      "[0.7094370860927153, 0.7185430463576159, 0.7127483443708609, 0.7350993377483444, 0.7044701986754967, 0.7326158940397351, 0.7094370860927153, 0.734271523178808, 0.6986754966887417, 0.7549668874172185, 0.7458609271523179, 0.7350993377483444, 0.7160596026490066, 0.7210264900662252, 0.7168874172185431, 0.7251655629139073, 0.7168874172185431, 0.7152317880794702, 0.7251655629139073, 0.7210264900662252, 0.7077814569536424, 0.7442052980132451, 0.7251655629139073, 0.7102649006622517, 0.7259933774834437, 0.7326158940397351, 0.7425496688741722, 0.7367549668874173, 0.7301324503311258, 0.7259933774834437]\n"
     ]
    }
   ],
   "source": [
    "#part 2 \n",
    "\n",
    "train_scores=[]\n",
    "test_scores=[]\n",
    "for i in range(0, 30):\n",
    "    clf_2 = tree.DecisionTreeClassifier(splitter='random')\n",
    "    x_train, x_test, y_train, y_test = train_test_split(x, y, test_size=0.2)\n",
    "    clf_2=clf_2.fit( x_train,y_train)\n",
    "    \n",
    "    train_scores.append(clf_2.score(x_train,y_train))\n",
    "    test_scores.append(clf_2.score(x_test,y_test))\n",
    "    print(clf_2.tree_.max_depth)\n",
    "    \n",
    "print (train_scores)\n",
    "print (test_scores)\n",
    "\n"
   ]
  },
  {
   "cell_type": "code",
   "execution_count": 51,
   "metadata": {
    "scrolled": true
   },
   "outputs": [
    {
     "name": "stdout",
     "output_type": "stream",
     "text": [
      "{'fit_time': array([0.0329864 , 0.03498483, 0.02519321, 0.02765369, 0.02285814,\n",
      "       0.02369547, 0.02346683, 0.0257144 , 0.02410746, 0.02375317]), 'score_time': array([0.        , 0.0010097 , 0.00096416, 0.        , 0.00129938,\n",
      "       0.        , 0.        , 0.0009706 , 0.00100279, 0.00099063]), 'test_score': array([0.72350993, 0.72516556, 0.7384106 , 0.70529801, 0.72350993,\n",
      "       0.70695364, 0.75496689, 0.72968491, 0.74958541, 0.72802653])}\n"
     ]
    }
   ],
   "source": [
    "#part 3 \n",
    "\n",
    "#Do we use random?\n",
    "clf_3 = tree.DecisionTreeClassifier()\n",
    "\n",
    "cv_results = cross_validate(clf, x, y, cv=10)\n",
    "print(cv_results)"
   ]
  },
  {
   "cell_type": "code",
   "execution_count": null,
   "metadata": {},
   "outputs": [],
   "source": []
  },
  {
   "cell_type": "code",
   "execution_count": 67,
   "metadata": {},
   "outputs": [
    {
     "name": "stdout",
     "output_type": "stream",
     "text": [
      "highest_train_score 1.0\n",
      "highest_test_score :  0.8170529801324503\n",
      "best_dept 5\n"
     ]
    }
   ],
   "source": [
    "#part 4 \n",
    "#model 2\n",
    "train_scores=[]\n",
    "test_scores=[]\n",
    "best_depth=0\n",
    "# Change other parameters as well\n",
    "highest_train_score=0\n",
    "highest_test_score=0\n",
    "best_fitted_tree=tree.DecisionTreeClassifier()\n",
    "for i in range (4,27):\n",
    "    #Do we use randon here\n",
    "    clf_4=tree.DecisionTreeClassifier(max_depth=i, )\n",
    "    for j in range (0,30):\n",
    "        x_train, x_test, y_train, y_test = train_test_split(x, y, test_size=0.2)\n",
    "        temp_clf=clf_4.fit( x_train,y_train)\n",
    "        temp_train_score=temp_clf.score(x_train,y_train)\n",
    "        temp_test_score=temp_clf.score(x_test,y_test)\n",
    "            \n",
    "        if(temp_train_score>highest_train_score):\n",
    "            highest_train_score=temp_train_score\n",
    "                \n",
    "        if(temp_test_score>highest_test_score):\n",
    "            highest_test_score=temp_test_score\n",
    "   #Update using test score only             \n",
    "        if(temp_train_score==highest_train_score and temp_test_score==highest_test_score ):\n",
    "            best_fitted_tree=temp_clf\n",
    "            best_depth=i\n",
    "        # Do we report average or each point\n",
    "            \n",
    "print('highest_train_score',highest_train_score)            \n",
    "print('highest_test_score : ',highest_test_score)\n",
    "print('best_dept',best_depth)\n"
   ]
  },
  {
   "cell_type": "code",
   "execution_count": 68,
   "metadata": {},
   "outputs": [
    {
     "data": {
      "text/plain": [
       "[Text(174.23265306122448, 199.32, 'X[3] <= 42.5\\ngini = 0.448\\nsamples = 4829\\nvalue = [3190, 1639]'),\n",
       " Text(99.07346938775511, 163.07999999999998, 'X[6] <= 2.5\\ngini = 0.332\\nsamples = 3163\\nvalue = [2497, 666]'),\n",
       " Text(54.66122448979592, 126.83999999999999, 'X[6] <= 1.5\\ngini = 0.306\\nsamples = 3059\\nvalue = [2482, 577]'),\n",
       " Text(27.33061224489796, 90.6, 'X[1] <= 1.5\\ngini = 0.407\\nsamples = 1615\\nvalue = [1155, 460]'),\n",
       " Text(13.66530612244898, 54.359999999999985, 'X[5] <= 54704.0\\ngini = 0.359\\nsamples = 1174\\nvalue = [899, 275]'),\n",
       " Text(6.83265306122449, 18.119999999999976, 'gini = 0.475\\nsamples = 297\\nvalue = [182, 115]'),\n",
       " Text(20.49795918367347, 18.119999999999976, 'gini = 0.298\\nsamples = 877\\nvalue = [717, 160]'),\n",
       " Text(40.99591836734694, 54.359999999999985, 'X[3] <= 33.5\\ngini = 0.487\\nsamples = 441\\nvalue = [256, 185]'),\n",
       " Text(34.16326530612245, 18.119999999999976, 'gini = 0.389\\nsamples = 193\\nvalue = [142, 51]'),\n",
       " Text(47.82857142857143, 18.119999999999976, 'gini = 0.497\\nsamples = 248\\nvalue = [114, 134]'),\n",
       " Text(81.99183673469388, 90.6, 'X[5] <= 108284.5\\ngini = 0.149\\nsamples = 1444\\nvalue = [1327, 117]'),\n",
       " Text(68.3265306122449, 54.359999999999985, 'X[3] <= 36.5\\ngini = 0.094\\nsamples = 1031\\nvalue = [980, 51]'),\n",
       " Text(61.49387755102041, 18.119999999999976, 'gini = 0.061\\nsamples = 671\\nvalue = [650, 21]'),\n",
       " Text(75.15918367346939, 18.119999999999976, 'gini = 0.153\\nsamples = 360\\nvalue = [330, 30]'),\n",
       " Text(95.65714285714286, 54.359999999999985, 'X[5] <= 109091.0\\ngini = 0.269\\nsamples = 413\\nvalue = [347, 66]'),\n",
       " Text(88.82448979591837, 18.119999999999976, 'gini = 0.48\\nsamples = 10\\nvalue = [4, 6]'),\n",
       " Text(102.48979591836735, 18.119999999999976, 'gini = 0.253\\nsamples = 403\\nvalue = [343, 60]'),\n",
       " Text(143.4857142857143, 126.83999999999999, 'X[5] <= 55948.5\\ngini = 0.247\\nsamples = 104\\nvalue = [15, 89]'),\n",
       " Text(129.8204081632653, 90.6, 'X[9] <= 103772.5\\ngini = 0.444\\nsamples = 33\\nvalue = [11, 22]'),\n",
       " Text(122.98775510204082, 54.359999999999985, 'X[3] <= 32.5\\ngini = 0.499\\nsamples = 21\\nvalue = [11, 10]'),\n",
       " Text(116.15510204081633, 18.119999999999976, 'gini = 0.219\\nsamples = 8\\nvalue = [7, 1]'),\n",
       " Text(129.8204081632653, 18.119999999999976, 'gini = 0.426\\nsamples = 13\\nvalue = [4, 9]'),\n",
       " Text(136.6530612244898, 54.359999999999985, 'gini = 0.0\\nsamples = 12\\nvalue = [0, 12]'),\n",
       " Text(157.15102040816328, 90.6, 'X[9] <= 195175.5\\ngini = 0.106\\nsamples = 71\\nvalue = [4, 67]'),\n",
       " Text(150.31836734693877, 54.359999999999985, 'X[4] <= 1.5\\ngini = 0.082\\nsamples = 70\\nvalue = [3, 67]'),\n",
       " Text(143.4857142857143, 18.119999999999976, 'gini = 0.444\\nsamples = 3\\nvalue = [1, 2]'),\n",
       " Text(157.15102040816328, 18.119999999999976, 'gini = 0.058\\nsamples = 67\\nvalue = [2, 65]'),\n",
       " Text(163.98367346938775, 54.359999999999985, 'gini = 0.0\\nsamples = 1\\nvalue = [1, 0]'),\n",
       " Text(249.3918367346939, 163.07999999999998, 'X[8] <= 0.5\\ngini = 0.486\\nsamples = 1666\\nvalue = [693, 973]'),\n",
       " Text(201.56326530612245, 126.83999999999999, 'X[3] <= 47.5\\ngini = 0.37\\nsamples = 835\\nvalue = [205, 630]'),\n",
       " Text(184.48163265306124, 90.6, 'X[6] <= 2.5\\ngini = 0.479\\nsamples = 367\\nvalue = [146, 221]'),\n",
       " Text(177.64897959183673, 54.359999999999985, 'X[6] <= 1.5\\ngini = 0.491\\nsamples = 336\\nvalue = [146, 190]'),\n",
       " Text(170.81632653061226, 18.119999999999976, 'gini = 0.426\\nsamples = 231\\nvalue = [71, 160]'),\n",
       " Text(184.48163265306124, 18.119999999999976, 'gini = 0.408\\nsamples = 105\\nvalue = [75, 30]'),\n",
       " Text(191.31428571428572, 54.359999999999985, 'gini = 0.0\\nsamples = 31\\nvalue = [0, 31]'),\n",
       " Text(218.64489795918368, 90.6, 'X[3] <= 51.5\\ngini = 0.22\\nsamples = 468\\nvalue = [59, 409]'),\n",
       " Text(204.9795918367347, 54.359999999999985, 'X[6] <= 1.5\\ngini = 0.342\\nsamples = 192\\nvalue = [42, 150]'),\n",
       " Text(198.14693877551022, 18.119999999999976, 'gini = 0.226\\nsamples = 131\\nvalue = [17, 114]'),\n",
       " Text(211.8122448979592, 18.119999999999976, 'gini = 0.484\\nsamples = 61\\nvalue = [25, 36]'),\n",
       " Text(232.31020408163266, 54.359999999999985, 'X[3] <= 73.5\\ngini = 0.116\\nsamples = 276\\nvalue = [17, 259]'),\n",
       " Text(225.47755102040816, 18.119999999999976, 'gini = 0.104\\nsamples = 273\\nvalue = [15, 258]'),\n",
       " Text(239.14285714285714, 18.119999999999976, 'gini = 0.444\\nsamples = 3\\nvalue = [2, 1]'),\n",
       " Text(297.2204081632653, 126.83999999999999, 'X[6] <= 2.5\\ngini = 0.485\\nsamples = 831\\nvalue = [488, 343]'),\n",
       " Text(273.3061224489796, 90.6, 'X[6] <= 1.5\\ngini = 0.469\\nsamples = 777\\nvalue = [486, 291]'),\n",
       " Text(259.6408163265306, 54.359999999999985, 'X[3] <= 58.5\\ngini = 0.5\\nsamples = 461\\nvalue = [234, 227]'),\n",
       " Text(252.80816326530612, 18.119999999999976, 'gini = 0.491\\nsamples = 350\\nvalue = [152, 198]'),\n",
       " Text(266.47346938775513, 18.119999999999976, 'gini = 0.386\\nsamples = 111\\nvalue = [82, 29]'),\n",
       " Text(286.9714285714286, 54.359999999999985, 'X[5] <= 53934.5\\ngini = 0.323\\nsamples = 316\\nvalue = [252, 64]'),\n",
       " Text(280.1387755102041, 18.119999999999976, 'gini = 0.124\\nsamples = 166\\nvalue = [155, 11]'),\n",
       " Text(293.8040816326531, 18.119999999999976, 'gini = 0.457\\nsamples = 150\\nvalue = [97, 53]'),\n",
       " Text(321.13469387755106, 90.6, 'X[9] <= 72998.5\\ngini = 0.071\\nsamples = 54\\nvalue = [2, 52]'),\n",
       " Text(314.30204081632655, 54.359999999999985, 'X[5] <= 22291.0\\ngini = 0.298\\nsamples = 11\\nvalue = [2, 9]'),\n",
       " Text(307.46938775510205, 18.119999999999976, 'gini = 0.444\\nsamples = 3\\nvalue = [2, 1]'),\n",
       " Text(321.13469387755106, 18.119999999999976, 'gini = 0.0\\nsamples = 8\\nvalue = [0, 8]'),\n",
       " Text(327.9673469387755, 54.359999999999985, 'gini = 0.0\\nsamples = 43\\nvalue = [0, 43]')]"
      ]
     },
     "execution_count": 68,
     "metadata": {},
     "output_type": "execute_result"
    },
    {
     "data": {
      "image/png": "[encoded data removed]",
      "text/plain": [
       "<Figure size 432x288 with 1 Axes>"
      ]
     },
     "metadata": {
      "needs_background": "light"
     },
     "output_type": "display_data"
    }
   ],
   "source": [
    "tree.plot_tree(best_fitted_tree)\n"
   ]
  },
  {
   "cell_type": "code",
   "execution_count": null,
   "metadata": {},
   "outputs": [],
   "source": [
    "#part 4 \n",
    "#model 3\n",
    "train_scores_3=[]\n",
    "test_scores_3=[]\n",
    "best_depth_3=0\n",
    "\n",
    "highest_train_score_3=0\n",
    "highest_test_score_3=0\n",
    "best_fitted_tree_3=tree.DecisionTreeClassifier()\n",
    "for i in range (4,27):\n",
    "    #Do we take best avg?\n",
    "    clf_4_3=tree.DecisionTreeClassifier(max_depth=i)\n",
    "    cv_results = cross_validate(clf, x, y, cv=10)\n",
    "    \n",
    "    \n",
    "#Do we plot 2d or 3d"
   ]
  }
 ],
 "metadata": {
  "kernelspec": {
   "display_name": "Python 3",
   "language": "python",
   "name": "python3"
  },
  "language_info": {
   "codemirror_mode": {
    "name": "ipython",
    "version": 3
   },
   "file_extension": ".py",
   "mimetype": "text/x-python",
   "name": "python",
   "nbconvert_exporter": "python",
   "pygments_lexer": "ipython3",
   "version": "3.8.8"
  }
 },
 "nbformat": 4,
 "nbformat_minor": 4
}
